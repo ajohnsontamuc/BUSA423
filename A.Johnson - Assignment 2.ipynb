{
 "cells": [
  {
   "cell_type": "markdown",
   "id": "88391588",
   "metadata": {},
   "source": [
    "# Alexis Johnson\n",
    "\n",
    "- Assignment 2\n",
    "- BUSA 423\n",
    "- 7/19/2022"
   ]
  },
  {
   "cell_type": "markdown",
   "id": "4040d709",
   "metadata": {},
   "source": [
    "### 1. Write a program for flipping a coin 10,000 times and store the results in a list. After which, identify the number of streaks. (Streak - a series of 5 or more heads or tails) (20) Hint: use random.randint() function to create the coin flip."
   ]
  },
  {
   "cell_type": "code",
   "execution_count": 144,
   "id": "1b85228d",
   "metadata": {},
   "outputs": [
    {
     "name": "stdout",
     "output_type": "stream",
     "text": [
      "In 10000 flips there were 4934 heads with 5066 tails.\n",
      "Head streaks equal 153 and tail streaks equal 156\n"
     ]
    }
   ],
   "source": [
    "import random\n",
    "\n",
    "flips = []\n",
    "\n",
    "for i in range(10000):\n",
    "    flips.append(random.randint(1,2))\n",
    "    \n",
    "null = 0\n",
    "heads = 0\n",
    "tails = 0\n",
    "for i in range(len(flips)):\n",
    "    null = flips[i]\n",
    "    j = i +1\n",
    "    count = 0\n",
    "    while j < len(flips) and flips[i] == flips[j]:\n",
    "        count += 1\n",
    "        j += 1\n",
    "    if count >4:\n",
    "        if flips[i] == 1:\n",
    "            heads += 1\n",
    "        else:\n",
    "            tails += 1\n",
    "    i =j\n",
    "    \n",
    "print('In ' + str(len(flips)) + ' flips there were ' + str(flips.count(1)) + ' heads with ' + str(flips.count(2)) + ' tails.')\n",
    "print('Head streaks equal ' + str(heads) + ' and tail streaks equal ' + str(tails))"
   ]
  },
  {
   "cell_type": "markdown",
   "id": "68d57f94",
   "metadata": {},
   "source": [
    "### 2. Write a program to take user inputs (number of swords, diamonds, gold coins, ropes and potions) for a video game and store them in a dictionary. After which print the following output. (20)\n",
    "- Inventory:\n",
    "    - 4 swords\n",
    "    - 10 diamonds\n",
    "    - 6 gold coins\n",
    "    - 3 ropes\n",
    "    - 2 potions"
   ]
  },
  {
   "cell_type": "code",
   "execution_count": 119,
   "id": "980924c1",
   "metadata": {},
   "outputs": [
    {
     "name": "stdout",
     "output_type": "stream",
     "text": [
      "Inventory\n",
      "4 Swords\n",
      "10 Diamonds\n",
      "6 Gold Coins\n",
      "3 Ropes\n",
      "2 Potions\n"
     ]
    }
   ],
   "source": [
    "inventory = {'Swords': 4, 'Diamonds': 10, 'Gold Coins': 6, 'Ropes': 3, 'Potions': 2}\n",
    "\n",
    "print(\"Inventory\")\n",
    "for key, value in inventory.items():\n",
    "    print(str(value) + ' ' + key )"
   ]
  },
  {
   "cell_type": "markdown",
   "id": "75ff732f",
   "metadata": {},
   "source": [
    "### 3. Repeat question 1 using arrays. (20)"
   ]
  },
  {
   "cell_type": "code",
   "execution_count": 94,
   "id": "3584873a",
   "metadata": {},
   "outputs": [
    {
     "ename": "SyntaxError",
     "evalue": "invalid syntax (1123777852.py, line 25)",
     "output_type": "error",
     "traceback": [
      "\u001b[1;36m  Input \u001b[1;32mIn [94]\u001b[1;36m\u001b[0m\n\u001b[1;33m    print('With ' + str(heads) + ' head streaks and ' + str(tails) + ' tail streaks. Totaling ' + str(tails+heads) + ' streaks.')\u001b[0m\n\u001b[1;37m    ^\u001b[0m\n\u001b[1;31mSyntaxError\u001b[0m\u001b[1;31m:\u001b[0m invalid syntax\n"
     ]
    }
   ],
   "source": [
    "import numpy as np\n",
    "import random\n",
    "\n",
    "flipsarr = np.random.randint(2,size=(10000))\n",
    "\n",
    "value=0\n",
    "heads=0\n",
    "tails=0\n",
    "\n",
    "for i in range(len(flipsarr)):\n",
    "    value = flipsarr[i]\n",
    "    j = i + 1\n",
    "    count = 0\n",
    "    while j < len(flipsarr) and flipsarr[i] == flipsarr[j]:\n",
    "        count += 1\n",
    "        j += 1\n",
    "    if count >4:\n",
    "        if flipsarr[i] == 0:\n",
    "            heads += 1\n",
    "        else:\n",
    "            tails += 1\n",
    "    i =j\n",
    "\n",
    "print('In 10,000 flips there were' +  str(np.count_nonzero(flipsarr)) + 'heads and ' + str(len(flipsarr) - str(np.count_nonzero(flipsarr)) + 'tails.')\n",
    "print('With ' + str(heads) + ' head streaks and ' + str(tails) + ' tail streaks. Totaling ' + str(tails+heads) + ' streaks.')"
   ]
  },
  {
   "cell_type": "markdown",
   "id": "973a0ac8",
   "metadata": {},
   "source": [
    "### 4. Create a game with the following instructions. (40)\n",
    "- a. There are 3 players and 10 iterations.\n",
    "- b. In each iteration, every player rolls a die.\n",
    "- c. The total score for each player is calculated by adding up the 10 rolls.\n",
    "- d. The player with the highest total score is declared as the winner.\n",
    "- Hint: use random.randint() function to create the die rolls."
   ]
  },
  {
   "cell_type": "code",
   "execution_count": 137,
   "id": "af290d1f",
   "metadata": {},
   "outputs": [
    {
     "name": "stdout",
     "output_type": "stream",
     "text": [
      "[[1 3 5 6 1 2 1 3 4 5]\n",
      " [6 3 4 6 1 6 6 5 4 4]\n",
      " [2 4 2 3 6 3 5 5 4 6]]\n",
      "Player 1s score 31\n",
      "Player 2s score 45\n",
      "Player 3s score 40\n",
      "\n",
      "The winner is player 2\n"
     ]
    }
   ],
   "source": [
    "import random\n",
    "import numpy as np\n",
    "\n",
    "scores = np.zeros((3,10), dtype=int)\n",
    "\n",
    "for i in range(10):\n",
    "    for j in range(3):\n",
    "        scores[j][i] = random.randint(1,6)\n",
    "        \n",
    "print(scores)\n",
    "player1 = np.sum(scores[0])\n",
    "player2 = np.sum(scores[1])\n",
    "player3 = np.sum(scores[2])\n",
    "\n",
    "print('Player 1s score' + ' ' + str(player1))\n",
    "print('Player 2s score' + ' ' + str(player2))\n",
    "print('Player 3s score' + ' ' + str(player3) + \"\\n\")\n",
    "\n",
    "if player1 > player2 and player1 > player3:\n",
    "    print('The winner is player 1')\n",
    "elif player2 > player1 and player2 > player3:\n",
    "    print('The winner is player 2')\n",
    "else:\n",
    "    print('Player 3 is th ewinner.')"
   ]
  }
 ],
 "metadata": {
  "kernelspec": {
   "display_name": "Python 3 (ipykernel)",
   "language": "python",
   "name": "python3"
  },
  "language_info": {
   "codemirror_mode": {
    "name": "ipython",
    "version": 3
   },
   "file_extension": ".py",
   "mimetype": "text/x-python",
   "name": "python",
   "nbconvert_exporter": "python",
   "pygments_lexer": "ipython3",
   "version": "3.9.12"
  }
 },
 "nbformat": 4,
 "nbformat_minor": 5
}
