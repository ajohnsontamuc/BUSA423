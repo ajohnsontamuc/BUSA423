{
 "cells": [
  {
   "cell_type": "markdown",
   "id": "bc203c58",
   "metadata": {},
   "source": [
    "## Practice Questions - Strings & Data Structures"
   ]
  },
  {
   "cell_type": "markdown",
   "id": "44bd5425",
   "metadata": {},
   "source": [
    "#### Question 1: \n",
    "\n",
    "Given an original list consiting of values: 22, 41, 33, 66, 8, 12 and 90. Use **append(), extend(), insert(), and concatenation** to add the values 32, 45, 16 and 11 to the list. "
   ]
  },
  {
   "cell_type": "code",
   "execution_count": 42,
   "id": "67d75946",
   "metadata": {},
   "outputs": [
    {
     "name": "stdout",
     "output_type": "stream",
     "text": [
      "[22, 41, 33, 66, 8, 12, 90, 32, 45, 16, 11]\n",
      "[22, 41, 33, 66, 8, 12, 90, 32, 45, 16, 11]\n",
      "[22, 41, 33, 66, 8, 12, 90, 32, 45, 16, 11]\n",
      "[22, 41, 45, 33, 16, 11, 66, 8, 12, 90, 32]\n"
     ]
    }
   ],
   "source": [
    "#concatenation\n",
    "data = [22,41,33,66,8,12,90]\n",
    "new_data = [32,45,16,11]\n",
    "data = data + new_data\n",
    "print(data)\n",
    "\n",
    "#append\n",
    "data = [22,41,33,66,8,12,90]\n",
    "data.append(32)\n",
    "data.append(45)\n",
    "data.append(16)\n",
    "data.append(11)\n",
    "print(data)\n",
    "\n",
    "#extend\n",
    "data = [22,41,33,66,8,12,90]\n",
    "data.extend([32,45,16,11])\n",
    "print(data)\n",
    "\n",
    "#insert\n",
    "data = [22,41,33,66,8,12,90]\n",
    "data.insert(7,32)\n",
    "data.insert(2,45)\n",
    "data.insert(4,16)\n",
    "data.insert(5,11)\n",
    "print(data)"
   ]
  },
  {
   "cell_type": "markdown",
   "id": "9bdbb16a",
   "metadata": {},
   "source": [
    "#### Question 2: \n",
    "\n",
    "Write a Python program that tests whether a list is empty or not. Repeat the task for testing an empty string."
   ]
  },
  {
   "cell_type": "code",
   "execution_count": 50,
   "id": "152a1ba8",
   "metadata": {},
   "outputs": [
    {
     "name": "stdout",
     "output_type": "stream",
     "text": [
      "Length of a: 0\n",
      "Empty?:yes\n"
     ]
    }
   ],
   "source": [
    "a = []\n",
    "print('Length of a:', len(a))\n",
    "\n",
    "\n",
    "str_1 = ''\n",
    "str_2 = \"\"\n",
    "print('Empty?:', end = \"\")\n",
    "if (len(str_1)==0):\n",
    "    print('yes')\n",
    "else:\n",
    "    print('no')"
   ]
  },
  {
   "cell_type": "markdown",
   "id": "927cce91",
   "metadata": {},
   "source": [
    "#### Question 3: \n",
    "\n",
    "- How many times does \"dream\" appear in the text?\n",
    "\n",
    "- Where is this text from? \n",
    "\n",
    "- Create a python code to print the text.\n",
    "\n",
    "Dream on\\\n",
    "Dream on\\\n",
    "I dream on\\\n",
    "Dream a little, I'll dream on\\\n",
    "Dream on\\\n",
    "I dream on\\\n",
    "I dream on\n",
    "\n",
    "Dream a little, I'll dream on\\\n",
    "Dream on\\\n",
    "Dream on\\\n",
    "Dream on\\\n",
    "I'll dream on\\\n",
    "Dream on\\\n",
    "Dream on\\\n",
    "I dream on"
   ]
  },
  {
   "cell_type": "code",
   "execution_count": 110,
   "id": "85ab54e8",
   "metadata": {},
   "outputs": [
    {
     "name": "stdout",
     "output_type": "stream",
     "text": [
      " 'Dream' appears 17 times in the text\n",
      " This text is a lyric from the song \"Dream on by Aerosmith\"\n",
      "Dream on\n",
      "Dream on\n",
      "I dream on\n",
      "Dream a little, Ill dream on\n",
      "Dream on\n",
      "I dream on\n",
      "I dream on\n",
      "\n",
      "Dream a little, Ill dream on\n",
      "Dream on\n",
      "Dream on\n",
      "Dream on\n",
      "Ill dream on\n",
      "Dream on\n",
      "Dream on\n",
      "I dream on\n"
     ]
    }
   ],
   "source": [
    "print(\" 'Dream' appears 17 times in the text\")\n",
    "print(' This text is a lyric from the song \"Dream on by Aerosmith\"')\n",
    "\n",
    "dream_1 = [1,2,5,10,11,12,14,15]\n",
    "dream_2 = [3,6,7,16]\n",
    "dream_3 = [4,9]\n",
    "dream_4 = [4,9,13]\n",
    "\n",
    "for i in range(1,17):\n",
    "    if i in dream_1:\n",
    "        print('Dream on')\n",
    "    elif i in dream_2:\n",
    "        print('I dream on')\n",
    "    elif i in dream_3 and i in dream_4:\n",
    "        print('Dream a little, Ill dream on')\n",
    "    elif i in dream_4:\n",
    "        print('Ill dream on')\n",
    "    else:\n",
    "        print('')"
   ]
  },
  {
   "cell_type": "markdown",
   "id": "f5f2fff5",
   "metadata": {},
   "source": [
    "#### Question 4: \n",
    "\n",
    "Create a dictionary, with keys being the name of employees: Oliver, Myers, Noah and Fallon. \n",
    "\n",
    "Add the values age (random - between 40 and 60), income (random between 100,000 and 150,000) and rating (random between 3.0 and 5.0) "
   ]
  },
  {
   "cell_type": "code",
   "execution_count": 112,
   "id": "ffdf510a",
   "metadata": {},
   "outputs": [
    {
     "name": "stdout",
     "output_type": "stream",
     "text": [
      "Oliver - {'age': 54, 'income': 130097, 'rating': 3.903572695616468}\n",
      "Myers - {'age': 41, 'income': 128476, 'rating': 4.983658484590036}\n",
      "Noah - {'age': 43, 'income': 122045, 'rating': 3.9014179753593727}\n",
      "Fallon - {'age': 43, 'income': 108712, 'rating': 3.320565019685238}\n"
     ]
    }
   ],
   "source": [
    "import random\n",
    "\n",
    "database = {'Oliver -':{'age': random.randint(40,60), 'income': random.randint(100000,150000), 'rating':random.uniform(3.0,5.0)}, 'Myers -':{'age': random.randint(40,60), 'income': random.randint(100000,150000), 'rating':random.uniform(3.0,5.0)}, 'Noah -':{'age': random.randint(40,60), 'income': random.randint(100000,150000), 'rating':random.uniform(3.0,5.0)}, 'Fallon -':{'age': random.randint(40,60), 'income': random.randint(100000,150000), 'rating':random.uniform(3.0,5.0)}}\n",
    "\n",
    "for key, value in database.items():\n",
    "    print(key + ' ' + str(value))\n",
    "        \n"
   ]
  },
  {
   "cell_type": "markdown",
   "id": "56396df1",
   "metadata": {},
   "source": [
    "#### Question 5: \n",
    "\n",
    "Create the following student data into 2 sub dictionaries based on the scores. (score <= 10 & score > 10)"
   ]
  },
  {
   "cell_type": "code",
   "execution_count": 120,
   "id": "4c265e31",
   "metadata": {},
   "outputs": [
    {
     "name": "stdout",
     "output_type": "stream",
     "text": [
      "Admitted students:\n",
      "{'student_1': 13, 'student_2': 17, 'student_4': 15, 'student_6': 14, 'student_7': 16, 'student_8': 12, 'student_9': 13, 'student_10': 15, 'student_11': 14, 'student_13': 10, 'student_14': 12, 'student_15': 13, 'student_17': 12, 'student_18': 15, 'student_20': 17}\n",
      "Students not admitted:\n",
      "{'student_3': 9, 'student_5': 8, 'student_112': 9, 'student_16': 7, 'student_19': 9}\n"
     ]
    }
   ],
   "source": [
    "students = {\"student_1\" : 13 , \"student_2\" : 17 , \"student_3\" : 9 , \"student_4\" : 15 , \"student_5\" : 8 , \"student_6\" : 14 , \n",
    "            \"student_7\" : 16 , \"student_8\" : 12 , \"student_9\" : 13 , \"student_10\" : 15 , \"student_11\" : 14 , \"student_112\" : 9 , \n",
    "            \"student_13\" : 10 , \"student_14\" : 12 , \"student_15\" : 13 , \"student_16\" : 7 , \"student_17\" : 12 , \"student_18\" : 15 , \n",
    "            \"student_19\" : 9 , \"student_20\" : 17 ,}\n",
    "\n",
    "for key, value in students.items ():\n",
    "    if (value <10):\n",
    "        nonAdmittedStudent[key] = value\n",
    "    else:\n",
    "        admittedStudents[key] = value\n",
    "\n",
    "print (\"Admitted students:\")\n",
    "print (admittedStudents)\n",
    "print (\"Students not admitted:\")\n",
    "print (nonAdmittedStudent)"
   ]
  },
  {
   "cell_type": "markdown",
   "id": "a2127ddc",
   "metadata": {},
   "source": [
    "#### Question 6: \n",
    "\n",
    "\n",
    "Write a python program that asks the user to enter an integer n and return a dictionary whose keys are integers 1, 2, 3, ... n and whose values ​​are 1! , 2! , 3! , … , n!"
   ]
  },
  {
   "cell_type": "code",
   "execution_count": 116,
   "id": "07c7a0f6",
   "metadata": {},
   "outputs": [
    {
     "name": "stdout",
     "output_type": "stream",
     "text": [
      "Enter a number: 25\n",
      "{16: 25}\n"
     ]
    }
   ],
   "source": [
    "factorial = {}\n",
    "\n",
    "number = int(input(\"Enter a number: \"))\n",
    "\n",
    "for I in range(1, number + 1):\n",
    " factorial[i] = I * factorial. get(i - 1, 1)\n",
    "\n",
    "\n",
    "print(factorial)"
   ]
  },
  {
   "cell_type": "markdown",
   "id": "73eb3c1f",
   "metadata": {},
   "source": [
    "#### Question 7: \n",
    "    \n",
    "Write a program to identify the largest word in a string."
   ]
  },
  {
   "cell_type": "code",
   "execution_count": 94,
   "id": "5d57e16f",
   "metadata": {},
   "outputs": [
    {
     "name": "stdout",
     "output_type": "stream",
     "text": [
      "Put your words hereI have a headache\n",
      "headache\n"
     ]
    }
   ],
   "source": [
    "def find_longest_word(word_list):\n",
    "    longest_word = ''\n",
    "    for word in word_list:\n",
    "        if len(word) > len(longest_word):\n",
    "            longest_word = word\n",
    "    print (longest_word)\n",
    "\n",
    "words = input('Put your words here')  \n",
    "word_list = words.split()  \n",
    "find_longest_word(word_list)  \n",
    "\n"
   ]
  },
  {
   "cell_type": "markdown",
   "id": "395aa221",
   "metadata": {},
   "source": [
    "#### Question 8: \n",
    "    \n",
    "Given an integer array, write a program to identify all the rows with values greater than the mean of the entire data."
   ]
  },
  {
   "cell_type": "code",
   "execution_count": 13,
   "id": "c02f79db",
   "metadata": {},
   "outputs": [
    {
     "name": "stdout",
     "output_type": "stream",
     "text": [
      "75 50 "
     ]
    }
   ],
   "source": [
    "def printAboveAvg(arr, a):\n",
    " \n",
    "    avg = 0\n",
    "    for i in range(a):\n",
    "        avg = avg + arr[i]\n",
    "         \n",
    "    avg = avg // a\n",
    "    for i in range(a):\n",
    "        if arr[i] > avg:\n",
    "            print(arr[i], end = \" \")\n",
    "            \n",
    "arr = [15, 11, 75, 9, 50]\n",
    "a = len(arr)\n",
    "printAboveAvg(arr, a)"
   ]
  },
  {
   "cell_type": "markdown",
   "id": "2c897176",
   "metadata": {},
   "source": [
    "#### Question 9: \n",
    "    \n",
    "Given an array of strings, write a program to create a new array which contains the lengths of the strings in ascending order"
   ]
  },
  {
   "cell_type": "code",
   "execution_count": 142,
   "id": "394d79e3",
   "metadata": {},
   "outputs": [
    {
     "name": "stdout",
     "output_type": "stream",
     "text": [
      "sorted list: ['lm', 'lmn', 'lmno', 'lmnop']\n",
      "Lenght of elements in asc order: [2, 3, 4, 5]\n"
     ]
    }
   ],
   "source": [
    " A = ['lm', 'lmn', 'lmno', 'lmnop']\n",
    "    \n",
    "A.sort()\n",
    "print('sorted list:', A)\n",
    "B = len(A[0])\n",
    "C = len(A[1])\n",
    "D = len(A[2])\n",
    "E = len(A[3])\n",
    "\n",
    "K = [B,C,D,E]\n",
    "print('Lenght of elements in asc order:', K)"
   ]
  },
  {
   "cell_type": "markdown",
   "id": "12af2109",
   "metadata": {},
   "source": [
    "#### Question 10: \n",
    "    \n",
    "Write a program to calculate the sum of the diagonal elements of a **n X n** matrix. "
   ]
  },
  {
   "cell_type": "code",
   "execution_count": 8,
   "id": "fb671b54",
   "metadata": {},
   "outputs": [
    {
     "name": "stdout",
     "output_type": "stream",
     "text": [
      "The Matrix is:\n",
      "[[3 6 6]\n",
      " [4 8 6]\n",
      " [5 2 3]]\n",
      "Trace of given 3x3 matrix:\n",
      "14\n"
     ]
    }
   ],
   "source": [
    "import numpy as np\n",
    "\n",
    "arr=np.random.randint(10, size=(3,3))\n",
    "\n",
    "print('The Matrix is:')\n",
    "print(arr)\n",
    "\n",
    "trace=np.trace(arr)\n",
    "\n",
    "print('Trace of given 3x3 matrix:')\n",
    "print(trace)"
   ]
  }
 ],
 "metadata": {
  "kernelspec": {
   "display_name": "Python 3 (ipykernel)",
   "language": "python",
   "name": "python3"
  },
  "language_info": {
   "codemirror_mode": {
    "name": "ipython",
    "version": 3
   },
   "file_extension": ".py",
   "mimetype": "text/x-python",
   "name": "python",
   "nbconvert_exporter": "python",
   "pygments_lexer": "ipython3",
   "version": "3.9.12"
  }
 },
 "nbformat": 4,
 "nbformat_minor": 5
}
