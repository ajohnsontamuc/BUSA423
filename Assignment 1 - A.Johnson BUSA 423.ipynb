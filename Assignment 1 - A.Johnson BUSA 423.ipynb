{
 "cells": [
  {
   "cell_type": "markdown",
   "id": "7830fa28",
   "metadata": {},
   "source": [
    "# Alexis Johnson\n",
    "- Assignment 1\n",
    "- BUSA 423\n",
    "- 7/16/22"
   ]
  },
  {
   "cell_type": "markdown",
   "id": "6bf40a01",
   "metadata": {},
   "source": [
    "### 1. Write a program which randomly selects a number between 1 and 20. The user is then given 5 chances to guess the number correctly to win."
   ]
  },
  {
   "cell_type": "code",
   "execution_count": 25,
   "id": "f24ed102",
   "metadata": {},
   "outputs": [
    {
     "name": "stdout",
     "output_type": "stream",
     "text": [
      "Choose a number between 1 & 20\n",
      "15\n",
      "Try again\n",
      "14\n",
      "Try again\n",
      "10\n",
      "Try again\n",
      "8\n",
      "Try again\n",
      "9\n",
      "You Lose\n",
      "Correct number is 19\n"
     ]
    }
   ],
   "source": [
    "import random\n",
    "\n",
    "print('Choose a number between 1 & 20')\n",
    "number = random.randint(1,20) \n",
    "\n",
    "for i in range (6):\n",
    "    if i == 5:\n",
    "        print('You Lose')\n",
    "        print('Correct number is', number)\n",
    "    else:\n",
    "        user = int(input())\n",
    "        if number == user:\n",
    "            print('You Win')\n",
    "            break\n",
    "        elif i <4:\n",
    "            print('Try again')\n",
    " "
   ]
  },
  {
   "cell_type": "markdown",
   "id": "35a118eb",
   "metadata": {},
   "source": [
    "### 2. Make the following changes to the above program. (20) After each guess, print if the next guess should be lower or higher. For example, if the computer selection is 10 and the user input is 6, print guess a higher value."
   ]
  },
  {
   "cell_type": "code",
   "execution_count": 26,
   "id": "01947e08",
   "metadata": {},
   "outputs": [
    {
     "name": "stdout",
     "output_type": "stream",
     "text": [
      "Choose a number between 1 & 20\n",
      "15\n",
      "Try again\n",
      "Go lower\n",
      "10\n",
      "Try again\n",
      "Go lower\n",
      "8\n",
      "You Win\n"
     ]
    }
   ],
   "source": [
    "import random\n",
    "\n",
    "print('Choose a number between 1 & 20')\n",
    "number = random.randint(1,20) \n",
    "\n",
    "for i in range (6):\n",
    "    if i == 5:\n",
    "        print('You Lose')\n",
    "        print('Correct number is', number)\n",
    "    else:\n",
    "        user = int(input())\n",
    "        if number == user:\n",
    "            print('You Win')\n",
    "            break\n",
    "        elif i <4:\n",
    "            print('Try again')\n",
    "    if user > number:\n",
    "        print('Go lower')\n",
    "    if user < number:\n",
    "        print('Go higher')"
   ]
  },
  {
   "cell_type": "markdown",
   "id": "c15a04ba",
   "metadata": {},
   "source": [
    "### 3. Write a program for “Rock-Paper-Scissors-Lizard-Spock”."
   ]
  },
  {
   "cell_type": "code",
   "execution_count": 5,
   "id": "df854e04",
   "metadata": {},
   "outputs": [
    {
     "name": "stdout",
     "output_type": "stream",
     "text": [
      "Enter your move: Rock, Paper, Scissors, Lizard, or Spock\n",
      "Scissors\n",
      "You Win!\n"
     ]
    }
   ],
   "source": [
    "import random \n",
    "\n",
    "print(\"Enter your move: Rock, Paper, Scissors, Lizard, or Spock\")\n",
    "user =  input()\n",
    "\n",
    "number = random.randint(1,3)\n",
    "if number == 1: \n",
    "    computer = 'Rock'\n",
    "elif number == 2: \n",
    "    computer = 'Paper'\n",
    "elif number == 3: \n",
    "    computer = 'Scissors'\n",
    "elif number == 4: \n",
    "    computer = 'Lizard'\n",
    "elif number == 5: \n",
    "    computer = 'Spock'\n",
    "\n",
    "if user == computer:\n",
    "    print('Its a tie!')\n",
    "elif user == 'Rock' and computer == 'Scissors':\n",
    "    print('You Win!')\n",
    "elif user == 'Paper' and computer == 'Rock':\n",
    "    print('You Win!')\n",
    "elif user == 'Scissors' and computer == 'Paper':\n",
    "    print('You Win!')\n",
    "elif user == 'Rock' and computer == 'Lizard':\n",
    "    print('You Win!')\n",
    "elif user == 'Lizard' and computer == 'Spock':\n",
    "    print('You Win!')\n",
    "elif user == 'Spock' and computer == 'Scissors':\n",
    "    print('You Win!')\n",
    "elif user == 'Lizard' and computer == 'Paper':\n",
    "    print('You Win!')\n",
    "elif user == 'Spock' and computer == 'Rock':\n",
    "    print('You Win!')\n",
    "elif user == 'Scissors' and computer == 'Lizard':\n",
    "    print('You Win!')\n",
    "elif user == 'Paper' and computer == 'Spock':\n",
    "    print('You Win!')\n",
    "elif user == 'Rock' and computer == 'Paper':\n",
    "    print('You Lose!')\n",
    "elif user == 'Paper' and computer == 'Scissors':\n",
    "    print('You Lose!')\n",
    "elif user == 'Scissors' and computer == 'Rock':\n",
    "    print('You Lose!')\n",
    "elif user == 'Lizard' and computer == 'Rock':\n",
    "    print('You Lose!')\n",
    "elif user == 'Spock' and computer == 'Lizard':\n",
    "    print('You Lose!')\n",
    "elif user == 'Scissors' and computer == 'Spock':\n",
    "    print('You Lose!')\n",
    "elif user == 'Rock' and computer == 'Spock':\n",
    "    print('You Lose!')\n",
    "elif user == 'Spock' and computer == 'Paper':\n",
    "    print('You Lose!')\n",
    "elif user == 'Paper' and computer == 'Lizard':\n",
    "    print('You Lose!')\n",
    "elif user == 'Lizard' and computer == 'Scissors':\n",
    "    print('You Lose!')\n",
    "else:\n",
    "    print('invalid entry')"
   ]
  },
  {
   "cell_type": "code",
   "execution_count": null,
   "id": "4fc60375",
   "metadata": {},
   "outputs": [],
   "source": []
  }
 ],
 "metadata": {
  "kernelspec": {
   "display_name": "Python 3 (ipykernel)",
   "language": "python",
   "name": "python3"
  },
  "language_info": {
   "codemirror_mode": {
    "name": "ipython",
    "version": 3
   },
   "file_extension": ".py",
   "mimetype": "text/x-python",
   "name": "python",
   "nbconvert_exporter": "python",
   "pygments_lexer": "ipython3",
   "version": "3.9.12"
  }
 },
 "nbformat": 4,
 "nbformat_minor": 5
}
