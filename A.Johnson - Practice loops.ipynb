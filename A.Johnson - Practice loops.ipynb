{
 "cells": [
  {
   "cell_type": "markdown",
   "id": "f42153b9",
   "metadata": {},
   "source": [
    "## Practice Questions - Loops"
   ]
  },
  {
   "cell_type": "markdown",
   "id": "c8c3054e",
   "metadata": {},
   "source": [
    "#### Question 1: Write a program to print the following number pattern using a loop.\n",
    "\n",
    "1 \\\n",
    "1 3 \\\n",
    "1 3 5 "
   ]
  },
  {
   "cell_type": "code",
   "execution_count": 7,
   "id": "1108608c",
   "metadata": {},
   "outputs": [
    {
     "name": "stdout",
     "output_type": "stream",
     "text": [
      "1\n",
      "1 3\n",
      "1 3 5\n"
     ]
    }
   ],
   "source": [
    "# Solution \n",
    "\n",
    "num_1 = '1'\n",
    "num_2 = '3'\n",
    "num_3 = '5'\n",
    "\n",
    "print(num_1)\n",
    "print(num_1 + \" \" +num_2)\n",
    "print(num_1 + \" \" + num_2 + \" \" + num_3)"
   ]
  },
  {
   "cell_type": "markdown",
   "id": "94440a4e",
   "metadata": {},
   "source": [
    "#### Question 2: Calculate the sum of all numbers from 1 to a given number  \n",
    "\n",
    "Input - 5\\\n",
    "Output - 15, <em>which is (1+2+3+4+5)</em>"
   ]
  },
  {
   "cell_type": "code",
   "execution_count": 9,
   "id": "770a9f6f",
   "metadata": {},
   "outputs": [
    {
     "name": "stdout",
     "output_type": "stream",
     "text": [
      "5\n",
      "15\n"
     ]
    }
   ],
   "source": [
    "# Solution\n",
    "\n",
    "number = int(input())\n",
    "\n",
    "print(1+2+3+4+number)"
   ]
  },
  {
   "cell_type": "markdown",
   "id": "e20717d7",
   "metadata": {},
   "source": [
    "#### Question 3: Find the factorial of a given number \n",
    "\n",
    "Input - 5\\\n",
    "Output - 120, <em>which is (1x2x3x4x5)</em>"
   ]
  },
  {
   "cell_type": "code",
   "execution_count": 10,
   "id": "9be266a7",
   "metadata": {},
   "outputs": [
    {
     "name": "stdout",
     "output_type": "stream",
     "text": [
      "5\n",
      "120\n"
     ]
    }
   ],
   "source": [
    "# Solution\n",
    "\n",
    "number = int(input())\n",
    "\n",
    "print(1*2*3*4*number)"
   ]
  },
  {
   "cell_type": "markdown",
   "id": "8b4643ca",
   "metadata": {},
   "source": [
    "#### Question 4: Given a student score (between 0 and 100), evaluate the following criteria.\n",
    "\n",
    "- Elgible for funding if the score is greater than 90\n",
    "- Fail if the score is less than 70\n",
    "- Need tutoring if they are not qualified for funding and havent failed.\n",
    " \n",
    "Input - 65, <em> User input </em> \\\n",
    "Output - Fail"
   ]
  },
  {
   "cell_type": "code",
   "execution_count": 1,
   "id": "755dda69",
   "metadata": {},
   "outputs": [
    {
     "name": "stdout",
     "output_type": "stream",
     "text": [
      "81\n",
      "Need tutoring\n"
     ]
    }
   ],
   "source": [
    "# Solution\n",
    "\n",
    "grade = int(input())\n",
    "\n",
    "if grade > 90:\n",
    "    print('Funded')\n",
    "elif grade < 70:\n",
    "    print('Fail')\n",
    "elif grade <=89 and grade >=71:\n",
    "    print('Need tutoring')\n",
    "\n"
   ]
  },
  {
   "cell_type": "markdown",
   "id": "0250ffb6",
   "metadata": {},
   "source": [
    "#### Question 5: Check if the given year is a leap year.\n",
    "\n",
    "Input - 1995 \\\n",
    "Output - No"
   ]
  },
  {
   "cell_type": "code",
   "execution_count": 21,
   "id": "6e37dfb4",
   "metadata": {},
   "outputs": [
    {
     "name": "stdout",
     "output_type": "stream",
     "text": [
      "1995\n",
      "Not a Leap Year\n"
     ]
    }
   ],
   "source": [
    "# Solution\n",
    "\n",
    "def checkyear(year):\n",
    "    \n",
    "    import calendar\n",
    "    return(calendar.isleap(year))\n",
    "\n",
    "year = int(input())\n",
    "if (checkyear(year)):\n",
    "    print('Leap Year')\n",
    "else:\n",
    "    print('Not a Leap Year')"
   ]
  },
  {
   "cell_type": "markdown",
   "id": "4a44d2fb",
   "metadata": {},
   "source": [
    "#### Question 6: Print the number of days in the given month. (You can assume 28 days for February)\n",
    "\n",
    "Input - \"January\" \\\n",
    "Output - 31"
   ]
  },
  {
   "cell_type": "code",
   "execution_count": 51,
   "id": "98d82f0c",
   "metadata": {},
   "outputs": [
    {
     "name": "stdout",
     "output_type": "stream",
     "text": [
      "Months: January, February, March, April, May, Jun, July, August, September, October, November, December\n",
      "January\n",
      "31 days\n"
     ]
    }
   ],
   "source": [
    "# Solution\n",
    "\n",
    "print('Months: January, February, March, April, May, Jun, July, August, September, October, November, December')\n",
    "month = input()\n",
    "\n",
    "if month == 'February':\n",
    "    print('28 days')\n",
    "elif month in ( 'April', ' June', 'September', 'November'):\n",
    "    print('30 days')\n",
    "elif month in ( 'January', 'March', 'May', 'July', 'August', 'October', 'December'):\n",
    "    print('31 days')\n",
    "else:\n",
    "    print('Invalid entry')"
   ]
  },
  {
   "cell_type": "markdown",
   "id": "05d3d8c1",
   "metadata": {},
   "source": [
    "#### Question 7: Write a program which takes the 3 numbers and identifes the largest one.\n",
    "\n",
    "Input - 30, 12, 50 \\\n",
    "Output - 50"
   ]
  },
  {
   "cell_type": "code",
   "execution_count": 16,
   "id": "f4d47f2d",
   "metadata": {},
   "outputs": [
    {
     "name": "stdout",
     "output_type": "stream",
     "text": [
      "50\n"
     ]
    }
   ],
   "source": [
    "# Solution\n",
    "\n",
    "num_1 = 30\n",
    "num_2 = 12\n",
    "num_3 = 50\n",
    "\n",
    "print(max(num_1,num_2,num_3))"
   ]
  },
  {
   "cell_type": "markdown",
   "id": "0b76f364",
   "metadata": {},
   "source": [
    "#### Question 8: Write a program which takes the three 2 digit numbers and sorts them in ascending order.\n",
    "\n",
    "Input - 30, 12, 50 \\\n",
    "Output - 12, 30, 50"
   ]
  },
  {
   "cell_type": "code",
   "execution_count": 15,
   "id": "66cc7213",
   "metadata": {},
   "outputs": [
    {
     "name": "stdout",
     "output_type": "stream",
     "text": [
      "[12, 30, 50]\n"
     ]
    }
   ],
   "source": [
    "# Solution\n",
    "\n",
    "number = [30,12,50]\n",
    "\n",
    "number.sort()\n",
    "print(number)"
   ]
  },
  {
   "cell_type": "markdown",
   "id": "f90efc3e",
   "metadata": {},
   "source": [
    "#### Question 9: Write a program which takes the user's weight(in lbs) and height(in inches), and then calculates the bmi using the below formula.\n",
    "\n",
    "BMI = Weight X 0.45359/((Height X 0.0254) X Height X 0.0254))\n",
    "\n",
    "Input - 150, 70 <em> , 2 user inputs (weight and height) </em> \\\n",
    "Output - 21.522"
   ]
  },
  {
   "cell_type": "code",
   "execution_count": 38,
   "id": "8d2ca168",
   "metadata": {},
   "outputs": [
    {
     "name": "stdout",
     "output_type": "stream",
     "text": [
      "BMI is 21.52242569791262 so Healthy\n"
     ]
    }
   ],
   "source": [
    "# Solution\n",
    "\n",
    "def BMI(height,weight):\n",
    "    bmi = weight*0.45359/((height*0.0254)*height*0.0254)\n",
    "    return bmi\n",
    "\n",
    "height = 70\n",
    "weight = 150\n",
    "\n",
    "bmi = BMI(height,weight)\n",
    "print('BMI is', format(bmi),'so', end= \" \")\n",
    "      \n",
    "if (bmi < 18.5):\n",
    "      print('Underweight')\n",
    "elif (bmi >= 18.5 and bmi < 24.9):\n",
    "      print('Healthy')\n",
    "elif (bmi >= 24.9 and bmi < 30):\n",
    "      print('Overweight')\n",
    "elif (bmi >30):\n",
    "      print('Severe Obese')"
   ]
  },
  {
   "cell_type": "markdown",
   "id": "bdfa27e9",
   "metadata": {},
   "source": [
    "#### Question 10: Write a program to check whether a number is prime or not using while loop.\n",
    "\n",
    "Input - 13 \\\n",
    "Output - Prime"
   ]
  },
  {
   "cell_type": "code",
   "execution_count": 39,
   "id": "4217bdec",
   "metadata": {},
   "outputs": [
    {
     "name": "stdout",
     "output_type": "stream",
     "text": [
      "13 prime\n"
     ]
    }
   ],
   "source": [
    "# Solution\n",
    "\n",
    "number = 13\n",
    "\n",
    "if number > 1:\n",
    "    for i in range(2, int(number/2)+1):\n",
    "        if (number%i) == 0:\n",
    "            print(number, 'not prime')\n",
    "            break\n",
    "    else:\n",
    "        print(number, 'prime')\n",
    "\n",
    "else:\n",
    "    print(number,'not prime')"
   ]
  }
 ],
 "metadata": {
  "kernelspec": {
   "display_name": "Python 3 (ipykernel)",
   "language": "python",
   "name": "python3"
  },
  "language_info": {
   "codemirror_mode": {
    "name": "ipython",
    "version": 3
   },
   "file_extension": ".py",
   "mimetype": "text/x-python",
   "name": "python",
   "nbconvert_exporter": "python",
   "pygments_lexer": "ipython3",
   "version": "3.9.12"
  }
 },
 "nbformat": 4,
 "nbformat_minor": 5
}
