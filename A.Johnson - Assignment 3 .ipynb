{
 "cells": [
  {
   "cell_type": "markdown",
   "id": "6001a66b",
   "metadata": {},
   "source": [
    "# Alexis Johnson\n",
    "\n",
    "- Assignment 2\n",
    "- BUSA 423\n",
    "- 8/1/2022 <--- My birthday is today"
   ]
  },
  {
   "cell_type": "markdown",
   "id": "b4110dc1",
   "metadata": {},
   "source": [
    "### 1. Create a class to store student records. Each student has a first name, last name,country, overall grade (0 - 4.0 scale), credits completed (total 30) and major. (20)After which, create a method within this class to evaluate student progress.Progress is evaluated as follows:• “Good”: if grades are above 3.0 and credits completed is greater than 20• “Average”: if grades are above 2.5 or credits completed is between 10 and 20• “Bad”: if grades are below 2.5"
   ]
  },
  {
   "cell_type": "code",
   "execution_count": 136,
   "id": "9881b7de",
   "metadata": {},
   "outputs": [
    {
     "name": "stdout",
     "output_type": "stream",
     "text": [
      "Progress of student is good\n",
      "Progress of student is average\n",
      "Progress of student is bad\n"
     ]
    }
   ],
   "source": [
    "class student:\n",
    "    def __init__(self, fname, lname, country, gpa, credits, major):\n",
    "        self.fname=fname\n",
    "        self.lname=lname\n",
    "        self.country=country\n",
    "        self.gpa=float(gpa)\n",
    "        self.credits=int(credits)\n",
    "        self.major=major\n",
    "        \n",
    "    def progress(self):\n",
    "        if (self.gpa>3 and self.credits>20):\n",
    "            print('Progress of student is good')\n",
    "        elif (self.gpa>2.5 or (self.credits>10 and self.credits<20)):\n",
    "            print('Progress of student is average')\n",
    "        elif (self.gpa<2.5):\n",
    "            print('Progress of student is bad')\n",
    "\n",
    "stu_1 = student('Mark ',' Jacobson ',' USA ', 4.6, 25,' Business')\n",
    "stu_1.progress()\n",
    "stu_2 = student('Amy ',' Horton ',' USA ', 3.1, 15,' Criminology')\n",
    "stu_2.progress()\n",
    "stu_3 = student('Stevie ',' Lakewood ',' USA ', 2.4, 9,' General Studies')\n",
    "stu_3.progress()\n",
    "\n",
    "        \n"
   ]
  },
  {
   "cell_type": "markdown",
   "id": "cdae2d4b",
   "metadata": {},
   "source": [
    "### 2. Write a function which separates the positive and negative numbers from a list of numbers.\n",
    "- Input: [-6, 5, -3, -2, 1, 0, -8, 9, 3]\n",
    "- Output: [-6, -3, -2, -8], [5, 1, 9, 3]"
   ]
  },
  {
   "cell_type": "code",
   "execution_count": 188,
   "id": "040afd16",
   "metadata": {},
   "outputs": [
    {
     "name": "stdout",
     "output_type": "stream",
     "text": [
      "[-6, -3, -2, 0, -8]\n",
      "[5, 1, 9, 3]\n"
     ]
    }
   ],
   "source": [
    "def sort_numbers(lst):\n",
    "    positive=[]\n",
    "    negative=[]\n",
    "    \n",
    "    for i in lst:\n",
    "        if i<=0:\n",
    "            positive.append(i)\n",
    "        else:\n",
    "            negative.append(i)\n",
    "            \n",
    "    print(positive)\n",
    "    print(negative)\n",
    "    \n",
    "lst = [-6, 5, -3, -2, 1, 0, -8, 9, 3]\n",
    "sort_numbers(lst)"
   ]
  },
  {
   "cell_type": "markdown",
   "id": "55f33386",
   "metadata": {},
   "source": [
    "### 3. Write a function which outputs all winning possibilities for a given player’s score. Assume the score is always between 15 and 21. Further, the dealer is dealt only 2 cards. \n",
    "Input - 18 (player’s final score)\n",
    "Output - [(9,10), (10,11), (10,10), (11,9), (11,8)]\n",
    "Notes:\n",
    "- No need to specify face cards separately, you can use the value “10”\n",
    "- (11,11) is not a winning combination\n",
    "https://u.osu.edu/sdp12d1/user-manual/(BlackJack-rules)"
   ]
  },
  {
   "cell_type": "code",
   "execution_count": 186,
   "id": "919e348e",
   "metadata": {},
   "outputs": [
    {
     "data": {
      "text/plain": [
       "[[9, 10],\n",
       " [9, 11],\n",
       " [9, 12],\n",
       " [10, 9],\n",
       " [10, 10],\n",
       " [10, 11],\n",
       " [11, 9],\n",
       " [11, 10],\n",
       " [12, 9]]"
      ]
     },
     "execution_count": 186,
     "metadata": {},
     "output_type": "execute_result"
    }
   ],
   "source": [
    "def winner_nums(score):\n",
    "    \n",
    "    nums = []\n",
    "    \n",
    "    for i in range(9,21):\n",
    "        for j in range(9,21):\n",
    "            if i + j > 21:\n",
    "                continue\n",
    "            elif i+j > score:\n",
    "                nums.append([i,j])\n",
    "\n",
    "                                \n",
    "    return nums\n",
    "winner_nums(18)"
   ]
  },
  {
   "cell_type": "markdown",
   "id": "5854d371",
   "metadata": {},
   "source": [
    "### 4. Calculate the number of steps & Big O order for the programs in question 2 and 3. "
   ]
  },
  {
   "cell_type": "code",
   "execution_count": 149,
   "id": "13e4c966",
   "metadata": {},
   "outputs": [],
   "source": [
    "#Question 2 - 2 step\n",
    "\n",
    "#Question 3 - 3 steps.\n",
    "\n",
    "#I don't really know, I didn't understand the lecture on this part. It didn't explain how to actually calculate this."
   ]
  }
 ],
 "metadata": {
  "kernelspec": {
   "display_name": "Python 3 (ipykernel)",
   "language": "python",
   "name": "python3"
  },
  "language_info": {
   "codemirror_mode": {
    "name": "ipython",
    "version": 3
   },
   "file_extension": ".py",
   "mimetype": "text/x-python",
   "name": "python",
   "nbconvert_exporter": "python",
   "pygments_lexer": "ipython3",
   "version": "3.9.12"
  }
 },
 "nbformat": 4,
 "nbformat_minor": 5
}
